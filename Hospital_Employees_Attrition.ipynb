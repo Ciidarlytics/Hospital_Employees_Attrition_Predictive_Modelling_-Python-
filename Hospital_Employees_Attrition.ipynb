{
 "cells": [
  {
   "cell_type": "code",
   "execution_count": 17,
   "metadata": {
    "id": "rEero_5r-BWs"
   },
   "outputs": [
    {
     "name": "stdout",
     "output_type": "stream",
     "text": [
      "   EmployeeID  Age Attrition     BusinessTravel  DailyRate  Department  \\\n",
      "0     1313919   41        No      Travel_Rarely       1102  Cardiology   \n",
      "1     1200302   49        No  Travel_Frequently        279   Maternity   \n",
      "2     1060315   37       Yes      Travel_Rarely       1373   Maternity   \n",
      "3     1272912   33        No  Travel_Frequently       1392   Maternity   \n",
      "4     1414939   27        No      Travel_Rarely        591   Maternity   \n",
      "\n",
      "  EducationField  Gender  HourlyRate MaritalStatus  StandardHours  \\\n",
      "0  Life Sciences  Female          94        Single             80   \n",
      "1  Life Sciences    Male          61       Married             80   \n",
      "2          Other    Male          92        Single             80   \n",
      "3  Life Sciences  Female          56       Married             80   \n",
      "4        Medical    Male          40       Married             80   \n",
      "\n",
      "   YearsInCurrentRole  YearsAtCompany  \n",
      "0                   4               6  \n",
      "1                   7              10  \n",
      "2                   0               0  \n",
      "3                   7               8  \n",
      "4                   2               2  \n",
      "Attrition\n",
      "Yes    199\n",
      "No     199\n",
      "Name: count, dtype: int64\n"
     ]
    }
   ],
   "source": [
    "# Read the dataset\n",
    "import pandas as pd\n",
    "df = pd.read_excel(\"Hospital_Employees_Attrition_Data.xlsx\")\n",
    "print(df.head())\n",
    "# Generate an unbiased sample\n",
    "positive_class = df[df[\"Attrition\"]== \"Yes\"]\n",
    "negative_class = df[df[\"Attrition\"]== \"No\"]\n",
    "sample_size = min(len(positive_class), len(negative_class))\n",
    "random_positive_sample = positive_class.sample(n=sample_size, random_state = 42)\n",
    "random_negative_sample = negative_class.sample(n=sample_size, random_state = 42)\n",
    "unbiased_sample = pd.concat([random_positive_sample, random_negative_sample], axis = 0)\n",
    "sample_distribution = unbiased_sample[\"Attrition\"].value_counts()\n",
    "print(sample_distribution)"
   ]
  },
  {
   "cell_type": "code",
   "execution_count": 27,
   "metadata": {
    "id": "Evtg273i-Ijq"
   },
   "outputs": [
    {
     "name": "stderr",
     "output_type": "stream",
     "text": [
      "C:\\Users\\USER\\anaconda3\\Lib\\site-packages\\sklearn\\linear_model\\_logistic.py:469: ConvergenceWarning: lbfgs failed to converge (status=1):\n",
      "STOP: TOTAL NO. of ITERATIONS REACHED LIMIT.\n",
      "\n",
      "Increase the number of iterations (max_iter) or scale the data as shown in:\n",
      "    https://scikit-learn.org/stable/modules/preprocessing.html\n",
      "Please also refer to the documentation for alternative solver options:\n",
      "    https://scikit-learn.org/stable/modules/linear_model.html#logistic-regression\n",
      "  n_iter_i = _check_optimize_result(\n"
     ]
    },
    {
     "name": "stdout",
     "output_type": "stream",
     "text": [
      "Confusion Matrix:\n",
      " [[28  6]\n",
      " [15 31]]\n",
      "\n",
      "Classification Report:\n",
      "               precision    recall  f1-score   support\n",
      "\n",
      "          No       0.65      0.82      0.73        34\n",
      "         Yes       0.84      0.67      0.75        46\n",
      "\n",
      "    accuracy                           0.74        80\n",
      "   macro avg       0.74      0.75      0.74        80\n",
      "weighted avg       0.76      0.74      0.74        80\n",
      "\n"
     ]
    },
    {
     "data": {
      "image/png": "[encoded data removed]",
      "text/plain": [
       "<Figure size 640x480 with 2 Axes>"
      ]
     },
     "metadata": {},
     "output_type": "display_data"
    },
    {
     "name": "stdout",
     "output_type": "stream",
     "text": [
      "Features Coefficient and Odds Ratios:\n",
      "                              Feature  Coefficient  Odds Ratio  Abs_Coefficient\n",
      "9     EducationField_Human Resources     1.026496      2.7913         1.026496\n",
      "17              MaritalStatus_Single     0.851083      2.3422         0.851083\n",
      "3          BusinessTravel_Non-Travel    -0.589929      0.5544         0.589929\n",
      "4   BusinessTravel_Travel_Frequently     0.589151      1.8025         0.589151\n",
      "16             MaritalStatus_Married    -0.490668      0.6122         0.490668\n",
      "13              EducationField_Other    -0.470923      0.6244         0.470923\n",
      "8               Department_Neurology    -0.375834      0.6867         0.375834\n",
      "15            MaritalStatus_Divorced    -0.345720      0.7077         0.345720\n",
      "14   EducationField_Technical Degree    -0.314654      0.7300         0.314654\n",
      "6              Department_Cardiology     0.223424      1.2504         0.223424\n",
      "10      EducationField_Life Sciences    -0.203747      0.8157         0.203747\n",
      "7               Department_Maternity     0.167105      1.1819         0.167105\n",
      "12            EducationField_Medical    -0.089821      0.9141         0.089821\n",
      "0                                Age    -0.076951      0.9259         0.076951\n",
      "11          EducationField_Marketing     0.067344      1.0697         0.067344\n",
      "5       BusinessTravel_Travel_Rarely     0.015472      1.0156         0.015472\n",
      "2                        Gender_Male     0.012208      1.0123         0.012208\n",
      "1                      Gender_Female     0.002486      1.0025         0.002486\n"
     ]
    }
   ],
   "source": [
    "from sklearn.model_selection import train_test_split\n",
    "from sklearn.preprocessing import StandardScaler\n",
    "from sklearn.linear_model import LogisticRegression\n",
    "from sklearn.metrics import classification_report, confusion_matrix\n",
    "import matplotlib.pyplot as plt\n",
    "import seaborn as sns\n",
    "import numpy as np\n",
    "import pandas as pd\n",
    "\n",
    "# Define features and target\n",
    "X = unbiased_sample[[\"Age\", \"Gender\", \"BusinessTravel\", \"Department\", \"EducationField\", \"MaritalStatus\"]]  # Adjust feature selection if necessary\n",
    "y = unbiased_sample['Attrition']\n",
    "\n",
    "# Encode categorical variables using one-hot encoding\n",
    "X = pd.get_dummies(X)\n",
    "\n",
    "# Split the data into training and testing sets\n",
    "X_train, X_test, y_train, y_test = train_test_split(X, y, test_size=0.2, random_state=42)\n",
    "\n",
    "# Build and train the model\n",
    "model = LogisticRegression()\n",
    "model.fit(X_train, y_train)\n",
    "\n",
    "# Access the coefficients\n",
    "coefficient = model.coef_[0]\n",
    "\n",
    "# Create a dataframe to associate features with coefficients\n",
    "coef_df = pd.DataFrame({\"Feature\": X.columns, \"Coefficient\": coefficient})\n",
    "\n",
    "# Calculate the odds ratio\n",
    "coef_df[\"Odds Ratio\"] = np.exp(coef_df[\"Coefficient\"]).round(4)\n",
    "\n",
    "# Sort the dataframe by absolute value of coefficient\n",
    "coef_df[\"Abs_Coefficient\"] = coef_df[\"Coefficient\"].abs()\n",
    "coef_df = coef_df.sort_values(by=\"Abs_Coefficient\", ascending=False)\n",
    "\n",
    "# Make predictions on the test set\n",
    "y_predict = model.predict(X_test)\n",
    "\n",
    "# Evaluate the model\n",
    "confusion = confusion_matrix(y_test, y_predict)\n",
    "classification = classification_report(y_test, y_predict)\n",
    "\n",
    "#Display the confusion metrix\n",
    "print(\"Confusion Matrix:\\n\", confusion)\n",
    "print(\"\\nClassification Report:\\n\", classification)\n",
    "\n",
    "#Plot the confusion matrix\n",
    "sns.heatmap(confusion, annot=True, cmap='YlGnBu', fmt='d')\n",
    "plt.xlabel('Predicted')\n",
    "plt.ylabel('Actual')\n",
    "plt.title('Confusion Matrix')\n",
    "plt.show()\n",
    "\n",
    "# Display features coefficient and odds ratios\n",
    "print('Features Coefficient and Odds Ratios:\\n', coef_df)\n",
    "\n",
    "\n",
    "\n",
    "\n",
    "\n",
    "\n"
   ]
  },
  {
   "cell_type": "code",
   "execution_count": null,
   "metadata": {},
   "outputs": [],
   "source": []
  }
 ],
 "metadata": {
  "colab": {
   "provenance": []
  },
  "kernelspec": {
   "display_name": "Python 3 (ipykernel)",
   "language": "python",
   "name": "python3"
  },
  "language_info": {
   "codemirror_mode": {
    "name": "ipython",
    "version": 3
   },
   "file_extension": ".py",
   "mimetype": "text/x-python",
   "name": "python",
   "nbconvert_exporter": "python",
   "pygments_lexer": "ipython3",
   "version": "3.12.4"
  }
 },
 "nbformat": 4,
 "nbformat_minor": 4
}
